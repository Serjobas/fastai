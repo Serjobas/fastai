{
 "cells": [
  {
   "cell_type": "markdown",
   "metadata": {},
   "source": [
    "# Image classificator\n",
    "\n",
    "https://docs.fast.ai/tutorial.vision.html"
   ]
  },
  {
   "cell_type": "markdown",
   "metadata": {},
   "source": [
    "-U для update, если была установлена то обновит!\n",
    "\n",
    "-qq для \"quite\" режима (без аутпута)\n"
   ]
  },
  {
   "cell_type": "code",
   "execution_count": 2,
   "metadata": {},
   "outputs": [
    {
     "name": "stdout",
     "output_type": "stream",
     "text": [
      "Note: you may need to restart the kernel to use updated packages.\n"
     ]
    }
   ],
   "source": [
    "%pip install -Uqq fastai"
   ]
  },
  {
   "cell_type": "code",
   "execution_count": 1,
   "metadata": {},
   "outputs": [
    {
     "data": {
      "text/html": [
       "\n",
       "<style>\n",
       "    /* Turns off some styling */\n",
       "    progress {\n",
       "        /* gets rid of default border in Firefox and Opera. */\n",
       "        border: none;\n",
       "        /* Needs to be in here for Safari polyfill so background images work as expected. */\n",
       "        background-size: auto;\n",
       "    }\n",
       "    progress:not([value]), progress:not([value])::-webkit-progress-bar {\n",
       "        background: repeating-linear-gradient(45deg, #7e7e7e, #7e7e7e 10px, #5c5c5c 10px, #5c5c5c 20px);\n",
       "    }\n",
       "    .progress-bar-interrupted, .progress-bar-interrupted::-webkit-progress-bar {\n",
       "        background: #F44336;\n",
       "    }\n",
       "</style>\n"
      ],
      "text/plain": [
       "<IPython.core.display.HTML object>"
      ]
     },
     "metadata": {},
     "output_type": "display_data"
    },
    {
     "data": {
      "text/html": [
       "\n",
       "    <div>\n",
       "      <progress value='811712512' class='' max='811706944' style='width:300px; height:20px; vertical-align: middle;'></progress>\n",
       "      100.00% [811712512/811706944 00:53&lt;00:00]\n",
       "    </div>\n",
       "    "
      ],
      "text/plain": [
       "<IPython.core.display.HTML object>"
      ]
     },
     "metadata": {},
     "output_type": "display_data"
    }
   ],
   "source": [
    "from fastai.vision.all import *\n",
    "\n",
    "path = untar_data(URLs.PETS)"
   ]
  },
  {
   "cell_type": "code",
   "execution_count": 10,
   "metadata": {},
   "outputs": [
    {
     "name": "stdout",
     "output_type": "stream",
     "text": [
      "01_intro.ipynb           15_arch_details.ipynb  README_pt.md\n",
      "02_production.ipynb      16_accel_sgd.ipynb     README_vn.md\n",
      "03_ethics.ipynb          17_foundations.ipynb   README_zh.md\n",
      "04_mnist_basics.ipynb    18_CAM.ipynb           app_blog.ipynb\n",
      "05_pet_breeds.ipynb      19_learner.ipynb       app_jupyter.ipynb\n",
      "06_multicat.ipynb        20_conclusion.ipynb    \u001b[0m\u001b[01;34mclean\u001b[0m/\n",
      "07_sizing_and_tta.ipynb  CODE_OF_CONDUCT.md     environment.yml\n",
      "08_collab.ipynb          LICENSE                \u001b[01;34mimages\u001b[0m/\n",
      "09_tabular.ipynb         README.md              requirements.txt\n",
      "10_nlp.ipynb             README_bn.md           \u001b[01;34msergey_own\u001b[0m/\n",
      "11_midlevel_data.ipynb   README_es.md           settings.ini\n",
      "12_nlp_dive.ipynb        README_id.md           \u001b[01;34mtools\u001b[0m/\n",
      "13_convolutions.ipynb    README_it.md           utils.py\n",
      "14_resnet.ipynb          README_ko.md\n"
     ]
    }
   ],
   "source": [
    "%ls"
   ]
  }
 ],
 "metadata": {
  "kernelspec": {
   "display_name": "Python 3 (ipykernel)",
   "language": "python",
   "name": "python3"
  },
  "language_info": {
   "codemirror_mode": {
    "name": "ipython",
    "version": 3
   },
   "file_extension": ".py",
   "mimetype": "text/x-python",
   "name": "python",
   "nbconvert_exporter": "python",
   "pygments_lexer": "ipython3",
   "version": "3.9.13"
  },
  "orig_nbformat": 4
 },
 "nbformat": 4,
 "nbformat_minor": 2
}
